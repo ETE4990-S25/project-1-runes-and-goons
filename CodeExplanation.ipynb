{
 "cells": [
  {
   "cell_type": "markdown",
   "metadata": {},
   "source": [
    "# Alexander's and Maggie's game.\n",
    "Most of code snippets are just to help explain how the code works.\n",
    "They will not run.\n",
    "\n",
    "\n",
    "Initializing Game:"
   ]
  },
  {
   "cell_type": "code",
   "execution_count": null,
   "metadata": {},
   "outputs": [],
   "source": [
    "game_data = {}  #This dict holds the save file when saving and loading game\n",
    "gameover = False #if this goes true then the game ends\n",
    "mapinstance = map() #makes an instance of the map, all of the items, enemies, and rooms are stored in the map\n",
    "player_inventory = equipment_inventory() #instanciates an inventory for the player, handles items\n",
    "\n",
    "player_inventory.get_equipment('Rusty Sword','weapon',{'damage': 5, 'speed': 1})\n",
    "#gives the player the starting weapon\n",
    "\n",
    "player_name = str(input(\"What is your name: \"))#asks players name, we were going to have more that interacts with this but we didn't get around to it.\n",
    "playerinstance = player(name= player_name,health= 300,damage= 10, max_health= 300)  \n",
    "#instantiates player object"
   ]
  },
  {
   "cell_type": "markdown",
   "metadata": {},
   "source": [
    "Basic Gameplay flow:"
   ]
  },
  {
   "cell_type": "code",
   "execution_count": null,
   "metadata": {},
   "outputs": [],
   "source": [
    "while not gameover: # as long as game is not over, the game plays\n",
    "    move()          # tells the player which rooms they can move to and lets them choose one\n",
    "    combat()        # lets player choose to flee or fight then handles combat if fight is chosen\n",
    "    if gameover:    # only time a player can lose is during combat so it leaves the game loop if the player loses\n",
    "        break\n",
    "    pickup_items()  # after finishing combat, pickup items will check the room for items and add them to the inventory\n",
    "    saver()         # game auto saves after each loop and before moving"
   ]
  },
  {
   "cell_type": "markdown",
   "metadata": {},
   "source": [
    "# Map"
   ]
  },
  {
   "cell_type": "markdown",
   "metadata": {},
   "source": []
  }
 ],
 "metadata": {
  "language_info": {
   "name": "python"
  }
 },
 "nbformat": 4,
 "nbformat_minor": 2
}
